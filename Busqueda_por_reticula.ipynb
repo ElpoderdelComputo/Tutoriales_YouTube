{
  "nbformat": 4,
  "nbformat_minor": 0,
  "metadata": {
    "colab": {
      "provenance": [],
      "mount_file_id": "1OXVRhBkX5MaZ_IC309J4b8fQ7quE5Edf",
      "authorship_tag": "ABX9TyOqNqivZR1sw0pspZOySK6O",
      "include_colab_link": true
    },
    "kernelspec": {
      "name": "python3",
      "display_name": "Python 3"
    },
    "language_info": {
      "name": "python"
    }
  },
  "cells": [
    {
      "cell_type": "markdown",
      "metadata": {
        "id": "view-in-github",
        "colab_type": "text"
      },
      "source": [
        "<a href=\"https://colab.research.google.com/github/ElpoderdelComputo/Tutoriales_YouTube/blob/main/Busqueda_por_reticula.ipynb\" target=\"_parent\"><img src=\"https://colab.research.google.com/assets/colab-badge.svg\" alt=\"Open In Colab\"/></a>"
      ]
    },
    {
      "cell_type": "markdown",
      "source": [
        "# **Busqueda por reticula**\n",
        "\n",
        "# **El poder del Cómputo**\n",
        "![WhatsApp Image 2023-05-10 at 12.14.22.jpeg](data:image/jpeg;base64,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)"
      ],
      "metadata": {
        "id": "2nUFz9DSz0vd"
      }
    },
    {
      "cell_type": "code",
      "execution_count": 6,
      "metadata": {
        "colab": {
          "base_uri": "https://localhost:8080/",
          "height": 206
        },
        "id": "sn89e08gzv3D",
        "outputId": "e75dde23-c576-4d82-c4d8-81e7fbfaa6a9"
      },
      "outputs": [
        {
          "output_type": "execute_result",
          "data": {
            "text/plain": [
              "    X   Y   R   G   B  ExG   ExR  ExGR      CIVE       VEG     NGRDI  \\\n",
              "0  26  89  62  76  76   14  10.8   3.2  28.95345  1.145453  0.101449   \n",
              "1  24  88  66  80  81   13  12.4   0.6  30.39845  1.132214  0.095890   \n",
              "2  26  87  67  81  81   14  12.8   1.2  30.02845  1.134926  0.094595   \n",
              "3  27  87  67  82  79   18  11.8   6.2  28.04745  1.158543  0.100671   \n",
              "4  80  61  70  71  73   -1  27.0 -28.0  34.78145  1.000211  0.007092   \n",
              "\n",
              "          NDI  CLASE  \n",
              "0  140.985507      4  \n",
              "1  140.273973      4  \n",
              "2  140.108108      4  \n",
              "3  140.885906      4  \n",
              "4  128.907801      4  "
            ],
            "text/html": [
              "\n",
              "  <div id=\"df-d13ad3c1-9bd8-45ee-a117-9ea43c28d328\">\n",
              "    <div class=\"colab-df-container\">\n",
              "      <div>\n",
              "<style scoped>\n",
              "    .dataframe tbody tr th:only-of-type {\n",
              "        vertical-align: middle;\n",
              "    }\n",
              "\n",
              "    .dataframe tbody tr th {\n",
              "        vertical-align: top;\n",
              "    }\n",
              "\n",
              "    .dataframe thead th {\n",
              "        text-align: right;\n",
              "    }\n",
              "</style>\n",
              "<table border=\"1\" class=\"dataframe\">\n",
              "  <thead>\n",
              "    <tr style=\"text-align: right;\">\n",
              "      <th></th>\n",
              "      <th>X</th>\n",
              "      <th>Y</th>\n",
              "      <th>R</th>\n",
              "      <th>G</th>\n",
              "      <th>B</th>\n",
              "      <th>ExG</th>\n",
              "      <th>ExR</th>\n",
              "      <th>ExGR</th>\n",
              "      <th>CIVE</th>\n",
              "      <th>VEG</th>\n",
              "      <th>NGRDI</th>\n",
              "      <th>NDI</th>\n",
              "      <th>CLASE</th>\n",
              "    </tr>\n",
              "  </thead>\n",
              "  <tbody>\n",
              "    <tr>\n",
              "      <th>0</th>\n",
              "      <td>26</td>\n",
              "      <td>89</td>\n",
              "      <td>62</td>\n",
              "      <td>76</td>\n",
              "      <td>76</td>\n",
              "      <td>14</td>\n",
              "      <td>10.8</td>\n",
              "      <td>3.2</td>\n",
              "      <td>28.95345</td>\n",
              "      <td>1.145453</td>\n",
              "      <td>0.101449</td>\n",
              "      <td>140.985507</td>\n",
              "      <td>4</td>\n",
              "    </tr>\n",
              "    <tr>\n",
              "      <th>1</th>\n",
              "      <td>24</td>\n",
              "      <td>88</td>\n",
              "      <td>66</td>\n",
              "      <td>80</td>\n",
              "      <td>81</td>\n",
              "      <td>13</td>\n",
              "      <td>12.4</td>\n",
              "      <td>0.6</td>\n",
              "      <td>30.39845</td>\n",
              "      <td>1.132214</td>\n",
              "      <td>0.095890</td>\n",
              "      <td>140.273973</td>\n",
              "      <td>4</td>\n",
              "    </tr>\n",
              "    <tr>\n",
              "      <th>2</th>\n",
              "      <td>26</td>\n",
              "      <td>87</td>\n",
              "      <td>67</td>\n",
              "      <td>81</td>\n",
              "      <td>81</td>\n",
              "      <td>14</td>\n",
              "      <td>12.8</td>\n",
              "      <td>1.2</td>\n",
              "      <td>30.02845</td>\n",
              "      <td>1.134926</td>\n",
              "      <td>0.094595</td>\n",
              "      <td>140.108108</td>\n",
              "      <td>4</td>\n",
              "    </tr>\n",
              "    <tr>\n",
              "      <th>3</th>\n",
              "      <td>27</td>\n",
              "      <td>87</td>\n",
              "      <td>67</td>\n",
              "      <td>82</td>\n",
              "      <td>79</td>\n",
              "      <td>18</td>\n",
              "      <td>11.8</td>\n",
              "      <td>6.2</td>\n",
              "      <td>28.04745</td>\n",
              "      <td>1.158543</td>\n",
              "      <td>0.100671</td>\n",
              "      <td>140.885906</td>\n",
              "      <td>4</td>\n",
              "    </tr>\n",
              "    <tr>\n",
              "      <th>4</th>\n",
              "      <td>80</td>\n",
              "      <td>61</td>\n",
              "      <td>70</td>\n",
              "      <td>71</td>\n",
              "      <td>73</td>\n",
              "      <td>-1</td>\n",
              "      <td>27.0</td>\n",
              "      <td>-28.0</td>\n",
              "      <td>34.78145</td>\n",
              "      <td>1.000211</td>\n",
              "      <td>0.007092</td>\n",
              "      <td>128.907801</td>\n",
              "      <td>4</td>\n",
              "    </tr>\n",
              "  </tbody>\n",
              "</table>\n",
              "</div>\n",
              "      <button class=\"colab-df-convert\" onclick=\"convertToInteractive('df-d13ad3c1-9bd8-45ee-a117-9ea43c28d328')\"\n",
              "              title=\"Convert this dataframe to an interactive table.\"\n",
              "              style=\"display:none;\">\n",
              "        \n",
              "  <svg xmlns=\"http://www.w3.org/2000/svg\" height=\"24px\"viewBox=\"0 0 24 24\"\n",
              "       width=\"24px\">\n",
              "    <path d=\"M0 0h24v24H0V0z\" fill=\"none\"/>\n",
              "    <path d=\"M18.56 5.44l.94 2.06.94-2.06 2.06-.94-2.06-.94-.94-2.06-.94 2.06-2.06.94zm-11 1L8.5 8.5l.94-2.06 2.06-.94-2.06-.94L8.5 2.5l-.94 2.06-2.06.94zm10 10l.94 2.06.94-2.06 2.06-.94-2.06-.94-.94-2.06-.94 2.06-2.06.94z\"/><path d=\"M17.41 7.96l-1.37-1.37c-.4-.4-.92-.59-1.43-.59-.52 0-1.04.2-1.43.59L10.3 9.45l-7.72 7.72c-.78.78-.78 2.05 0 2.83L4 21.41c.39.39.9.59 1.41.59.51 0 1.02-.2 1.41-.59l7.78-7.78 2.81-2.81c.8-.78.8-2.07 0-2.86zM5.41 20L4 18.59l7.72-7.72 1.47 1.35L5.41 20z\"/>\n",
              "  </svg>\n",
              "      </button>\n",
              "      \n",
              "  <style>\n",
              "    .colab-df-container {\n",
              "      display:flex;\n",
              "      flex-wrap:wrap;\n",
              "      gap: 12px;\n",
              "    }\n",
              "\n",
              "    .colab-df-convert {\n",
              "      background-color: #E8F0FE;\n",
              "      border: none;\n",
              "      border-radius: 50%;\n",
              "      cursor: pointer;\n",
              "      display: none;\n",
              "      fill: #1967D2;\n",
              "      height: 32px;\n",
              "      padding: 0 0 0 0;\n",
              "      width: 32px;\n",
              "    }\n",
              "\n",
              "    .colab-df-convert:hover {\n",
              "      background-color: #E2EBFA;\n",
              "      box-shadow: 0px 1px 2px rgba(60, 64, 67, 0.3), 0px 1px 3px 1px rgba(60, 64, 67, 0.15);\n",
              "      fill: #174EA6;\n",
              "    }\n",
              "\n",
              "    [theme=dark] .colab-df-convert {\n",
              "      background-color: #3B4455;\n",
              "      fill: #D2E3FC;\n",
              "    }\n",
              "\n",
              "    [theme=dark] .colab-df-convert:hover {\n",
              "      background-color: #434B5C;\n",
              "      box-shadow: 0px 1px 3px 1px rgba(0, 0, 0, 0.15);\n",
              "      filter: drop-shadow(0px 1px 2px rgba(0, 0, 0, 0.3));\n",
              "      fill: #FFFFFF;\n",
              "    }\n",
              "  </style>\n",
              "\n",
              "      <script>\n",
              "        const buttonEl =\n",
              "          document.querySelector('#df-d13ad3c1-9bd8-45ee-a117-9ea43c28d328 button.colab-df-convert');\n",
              "        buttonEl.style.display =\n",
              "          google.colab.kernel.accessAllowed ? 'block' : 'none';\n",
              "\n",
              "        async function convertToInteractive(key) {\n",
              "          const element = document.querySelector('#df-d13ad3c1-9bd8-45ee-a117-9ea43c28d328');\n",
              "          const dataTable =\n",
              "            await google.colab.kernel.invokeFunction('convertToInteractive',\n",
              "                                                     [key], {});\n",
              "          if (!dataTable) return;\n",
              "\n",
              "          const docLinkHtml = 'Like what you see? Visit the ' +\n",
              "            '<a target=\"_blank\" href=https://colab.research.google.com/notebooks/data_table.ipynb>data table notebook</a>'\n",
              "            + ' to learn more about interactive tables.';\n",
              "          element.innerHTML = '';\n",
              "          dataTable['output_type'] = 'display_data';\n",
              "          await google.colab.output.renderOutput(dataTable, element);\n",
              "          const docLink = document.createElement('div');\n",
              "          docLink.innerHTML = docLinkHtml;\n",
              "          element.appendChild(docLink);\n",
              "        }\n",
              "      </script>\n",
              "    </div>\n",
              "  </div>\n",
              "  "
            ]
          },
          "metadata": {},
          "execution_count": 6
        }
      ],
      "source": [
        "# -*- coding: utf-8 -*-\n",
        "\n",
        "# Importar las librerias a utilizar\n",
        "import pandas as pd\n",
        "# Abre archivo >>> Train_RF_2021.csv desde google drive\n",
        "df= pd.read_csv(\"/content/drive/MyDrive/DATOS_2002_2021/Train_2021.csv\", header=0)\n",
        "\n",
        "#Mostrar primeros 5 registros\n",
        "df[:5]"
      ]
    },
    {
      "cell_type": "code",
      "source": [
        "import numpy as np\n",
        "# Valores de X: R,G,B,ExR,NGRDI\n",
        "X = df.iloc[: , [2,3,4,5,10]].values\n",
        "# y es la columna 12\n",
        "y = df.iloc[: , 12].values\n",
        "\n",
        "#imprime etiquetas de clases\n",
        "print('Etiquetas de clase:', np.unique(y))\n",
        "print(X[:5])"
      ],
      "metadata": {
        "colab": {
          "base_uri": "https://localhost:8080/"
        },
        "id": "JQPwBbdO51n0",
        "outputId": "842179b0-eda0-4535-e4de-84ffba329ca4"
      },
      "execution_count": 7,
      "outputs": [
        {
          "output_type": "stream",
          "name": "stdout",
          "text": [
            "Etiquetas de clase: [1 2 3 4]\n",
            "[[ 6.20000000e+01  7.60000000e+01  7.60000000e+01  1.40000000e+01\n",
            "   1.01449275e-01]\n",
            " [ 6.60000000e+01  8.00000000e+01  8.10000000e+01  1.30000000e+01\n",
            "   9.58904110e-02]\n",
            " [ 6.70000000e+01  8.10000000e+01  8.10000000e+01  1.40000000e+01\n",
            "   9.45945950e-02]\n",
            " [ 6.70000000e+01  8.20000000e+01  7.90000000e+01  1.80000000e+01\n",
            "   1.00671141e-01]\n",
            " [ 7.00000000e+01  7.10000000e+01  7.30000000e+01 -1.00000000e+00\n",
            "   7.09219900e-03]]\n"
          ]
        }
      ]
    },
    {
      "cell_type": "code",
      "source": [
        "from sklearn.model_selection import train_test_split\n",
        "from sklearn.preprocessing import StandardScaler\n",
        "from sklearn.ensemble import RandomForestClassifier\n",
        "\n",
        "## División de datos en 90% de entrenamiento y 10% de datos de prueba:\n",
        "# random_state = 1\n",
        "X_train, X_test, y_train, y_test = train_test_split(X, y,\n",
        "                                                    test_size=0.10,\n",
        "                                                    stratify=y,\n",
        "                                                    random_state=1)"
      ],
      "metadata": {
        "id": "e1qmw3i86LYJ"
      },
      "execution_count": 9,
      "outputs": []
    },
    {
      "cell_type": "code",
      "source": [
        "# Mostrar cuantos datos hay en total: en entrenamiento y prueba\n",
        "print('\\nNumero de etiquetas en y:', np.bincount(y))\n",
        "print('Numero de etiquetas en y_train:', np.bincount(y_train))\n",
        "print('Numero de etiquetas en y_test:', np.bincount(y_test))\n",
        "\n",
        "# Estandarizar los datos\n",
        "stdsc = StandardScaler()\n",
        "\n",
        "X_train_std = stdsc.fit_transform(X_train)\n",
        "X_test_std = stdsc.transform(X_test)"
      ],
      "metadata": {
        "colab": {
          "base_uri": "https://localhost:8080/"
        },
        "id": "A_kvE-E46Wi2",
        "outputId": "aa6d182a-2d66-488c-e971-d05558d00f85"
      },
      "execution_count": 10,
      "outputs": [
        {
          "output_type": "stream",
          "name": "stdout",
          "text": [
            "\n",
            "Numero de etiquetas en y: [   0 2672 2246 3507 1718]\n",
            "Numero de etiquetas en y_train: [   0 2405 2021 3156 1546]\n",
            "Numero de etiquetas en y_test: [  0 267 225 351 172]\n"
          ]
        }
      ]
    },
    {
      "cell_type": "code",
      "source": [
        "# una prueba rapida \n",
        "clf = RandomForestClassifier(criterion='gini', max_depth=5, n_estimators=50,\n",
        "                       n_jobs=-1, random_state=1)\n",
        "\n",
        "## Se entrena el modelo\n",
        "clf.fit(X_train_std, y_train)\n",
        "# score de entrenamiento \n",
        "pg2 = clf.score(X_train_std, y_train)\n",
        "\n",
        "print('\\nTrain Accuracy clf: %.5f' % pg2)\n",
        "\n",
        "#Evaluando la prediccion con Xtest\n",
        "y_pred = clf.predict(X_test_std)\n",
        "\n",
        "print('Test Accuracy clf: %.5f' % clf.score(X_test_std, y_test))"
      ],
      "metadata": {
        "colab": {
          "base_uri": "https://localhost:8080/"
        },
        "id": "rMJH607B6o_4",
        "outputId": "e5893fa7-06e3-4bc8-a7a3-8877a1aea4a0"
      },
      "execution_count": 17,
      "outputs": [
        {
          "output_type": "stream",
          "name": "stdout",
          "text": [
            "\n",
            "Train Accuracy clf: 0.91630\n",
            "Test Accuracy clf: 0.90345\n"
          ]
        }
      ]
    },
    {
      "cell_type": "code",
      "source": [],
      "metadata": {
        "id": "tasNCRSKCS2w"
      },
      "execution_count": null,
      "outputs": []
    },
    {
      "cell_type": "code",
      "source": [
        "from sklearn.model_selection import GridSearchCV\n",
        "# Búsqueda exhaustiva de hiperparámetros especificados para un estimador\n",
        "\n",
        "# Número de árboles en el random forest (ne)\n",
        "n_estimators = [50,100,120,150,200]\n",
        "\n",
        "# El número de características a considerar al buscar la mejor división: (mc)\n",
        "max_features = ['log2','sqrt','auto']\n",
        "\n",
        "#criterio de impureza (cr)\n",
        "criterion = ['gini','entropy'] \n",
        "\n",
        "# Número máximo de niveles en el árbol (mp)\n",
        "max_depth = [8,10,11,12,13,14,15]\n",
        "\n",
        "# Crear retícula\n",
        "param_grid = [{'n_estimators': n_estimators,\n",
        "               'criterion': criterion,\n",
        "               'max_features': max_features,\n",
        "               'max_depth': max_depth}]\n",
        "\n",
        "\n",
        "# Crear el modelo base para ajustar\n",
        "rf = RandomForestClassifier()\n",
        "\n",
        "#busqueda exhaustiva\n",
        "gs = GridSearchCV(estimator = rf, \n",
        "                  param_grid = param_grid, \n",
        "                  scoring='accuracy', \n",
        "                  refit=True,\n",
        "                  n_jobs=-1)\n",
        "\n",
        "# Sea justan los modelos\n",
        "gs = gs.fit(X_train_std, y_train)\n",
        "\n",
        "# Mejor score\n",
        "print(gs.best_score_)\n",
        "# Mejores parametros\n",
        "print(gs.best_params_)\n",
        "\n",
        "# El mejor estimador \n",
        "clf = gs.best_estimator_"
      ],
      "metadata": {
        "colab": {
          "base_uri": "https://localhost:8080/"
        },
        "id": "kRXSOBbO7QyK",
        "outputId": "605f3bfe-5a8f-49e7-dea6-5a11b1ca6ce3"
      },
      "execution_count": 12,
      "outputs": [
        {
          "output_type": "stream",
          "name": "stdout",
          "text": [
            "0.9249565934972768\n",
            "{'criterion': 'gini', 'max_depth': 10, 'max_features': 'sqrt', 'n_estimators': 150}\n"
          ]
        }
      ]
    },
    {
      "cell_type": "code",
      "source": [
        "# Evaluamos el mejor estumador con X_test_std y y_test\n",
        "print('Test accuracy: %.5f' % clf.score(X_test_std, y_test))"
      ],
      "metadata": {
        "colab": {
          "base_uri": "https://localhost:8080/"
        },
        "id": "94RhG225ukSG",
        "outputId": "2c9bf652-ee52-497f-d729-3b4d5fbba2f8"
      },
      "execution_count": 13,
      "outputs": [
        {
          "output_type": "stream",
          "name": "stdout",
          "text": [
            "Test accuracy: 0.92512\n"
          ]
        }
      ]
    },
    {
      "cell_type": "code",
      "source": [
        "# Guardando el mejor modelo\n",
        "import joblib\n",
        "joblib.dump(clf, \"./RF_BUENMODELO1.pkl\")"
      ],
      "metadata": {
        "colab": {
          "base_uri": "https://localhost:8080/"
        },
        "id": "-9A7_83VzqDI",
        "outputId": "a96f6ffd-2298-4c59-a48d-a8e8c8587547"
      },
      "execution_count": 19,
      "outputs": [
        {
          "output_type": "execute_result",
          "data": {
            "text/plain": [
              "['./RF_BUENMODELO1.pkl']"
            ]
          },
          "metadata": {},
          "execution_count": 19
        }
      ]
    },
    {
      "cell_type": "code",
      "source": [
        "#importamos el mejor modelo ajustado \n",
        "clf_entrenado = joblib.load('/content/RF_BUENMODELO1.pkl')"
      ],
      "metadata": {
        "id": "PTOXOh2fEhI3"
      },
      "execution_count": 20,
      "outputs": []
    }
  ]
}