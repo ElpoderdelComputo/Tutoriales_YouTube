{
  "nbformat": 4,
  "nbformat_minor": 0,
  "metadata": {
    "colab": {
      "name": "Perceptron.ipynb",
      "provenance": [],
      "collapsed_sections": []
    },
    "kernelspec": {
      "name": "python3",
      "display_name": "Python 3"
    },
    "language_info": {
      "name": "python"
    }
  },
  "cells": [
    {
      "cell_type": "markdown",
      "source": [
        "# **Implementando un algoritmo de aprendizaje de perceptrón en Python**"
      ],
      "metadata": {
        "id": "lgzURe5GqjL1"
      }
    },
    {
      "cell_type": "markdown",
      "source": [
        "Autor: El poder del computo\n",
        "\n",
        "Visita mi canal de YouTube y suscribete, me apoyarias muchisimo
        
        https://www.youtube.com/channel/UCFYYiFxXscoQCWb6YFMQVkQ"
      ],
      "metadata": {
        "id": "51P-Q4uRrrEn"
      }
    },
    {
      "cell_type": "code",
      "execution_count": null,
      "metadata": {
        "id": "TAVMB7OZonPZ"
      },
      "outputs": [],
      "source": [
        "import numpy as np\n",
        "\n",
        "class Perceptron(object):\n",
        "    '''Clasificador perceptron.'''\n",
        "    def __init__(self, eta = 0.5, n_iter = 50, random_state = 1):\n",
        "      self.eta = eta  #Tasa de aprendizaje (entre 0.0 y 1.0)\n",
        "      self.n_iter = n_iter  # nimero de veces qie va a pasar el conjunto de datos \n",
        "      self.random_state = random_state  #Semilla del generador de numero aleatorios\n",
        "\n",
        "    def fit(self, X, y):\n",
        "      '''Ajuste de los datos\n",
        "      X: Vector de datos de entrenamiento\n",
        "        n_features = numero de caracteristicas \n",
        "      y: vector de etiquetas de respuesta\n",
        "      \n",
        "      self: object\n",
        "      '''\n",
        "      rgen = np.random.RandomState(self.random_state)   # Generamos numero aleatorios\n",
        "      self.w_ = rgen.normal(loc = 0.0, scale = 0.01, size = 1 + X.shape[1])  # numero aleatorios con dev est 0.01\n",
        "      #self.w_ = [0,0,0] #inicializando pesos en cero \n",
        "      self.errores_ = []  #lista vacia para los errores\n",
        "      print('Pesos iniciales', self.w_)\n",
        "\n",
        "      for _ in range(self.n_iter): #ciclo que se repite segun el numero de iteraciones\n",
        "          errores = 0\n",
        "          for xi, etiqueta in zip(X, y): # ciclo que se repite segun el numero de muestras\n",
        "            actualizacion = self.eta * (etiqueta - self.predice(xi))\n",
        "            self.w_[1:] += actualizacion * xi\n",
        "            self.w_[0] += actualizacion\n",
        "            errores += int(actualizacion != 0)\n",
        "          self.errores_.append(errores)\n",
        "          print('Pesos en epoch', _ , ':', self.w_)\n",
        "      return self\n",
        "    \n",
        "    def entrada_neta(self, X):\n",
        "      'Calculo de la entrada neta'\n",
        "      return np.dot(X, self.w_[1:]) + self.w_[0]\n",
        "\n",
        "    def predice(self, X): \n",
        "      'Etiqueta de clase de retorno despues del paso unitario'\n",
        "      return np.where(self.entrada_neta(X) >= 0.0, 1, -1)\n"
      ]
    },
    {
      "cell_type": "code",
      "source": [
        "datos = [[1,1], [1,-1], [-1,1], [-1,-1]]\n",
        "X = np.array(datos)\n",
        "y = [1, 1, 1, -1]\n",
        "\n",
        "print(X)\n",
        "print(y)"
      ],
      "metadata": {
        "colab": {
          "base_uri": "https://localhost:8080/"
        },
        "id": "wi32dtLrWehu",
        "outputId": "c17949ef-e5ee-41df-cba3-311233c92724"
      },
      "execution_count": null,
      "outputs": [
        {
          "output_type": "stream",
          "name": "stdout",
          "text": [
            "[[ 1  1]\n",
            " [ 1 -1]\n",
            " [-1  1]\n",
            " [-1 -1]]\n",
            "[1, 1, 1, -1]\n"
          ]
        }
      ]
    },
    {
      "cell_type": "code",
      "source": [
        "%matplotlib inline\n",
        "import matplotlib.pyplot as plt\n",
        "\n",
        "#visualizar los datos\n",
        "plt.scatter(X[0:3, 0], X[0:3, 1], color = 'red', marker = 'o', label = 'Positivo')\n",
        "plt.scatter(X[3, 0], X[3, 1], color = 'blue', marker = 'x', label = 'Negativo')\n",
        "\n",
        "plt.xlabel('X1')\n",
        "plt.ylabel('X2')\n",
        "plt.legend(loc = 'upper center')\n",
        "\n",
        "plt.show()"
      ],
      "metadata": {
        "colab": {
          "base_uri": "https://localhost:8080/",
          "height": 279
        },
        "id": "NitkRqETW77f",
        "outputId": "b2fda01e-0468-48f0-ee28-3d376974bc9e"
      },
      "execution_count": null,
      "outputs": [
        {
          "output_type": "display_data",
          "data": {
            "text/plain": [
              "<Figure size 432x288 with 1 Axes>"
            ],
            "image/png": "[encoded data removed]"
          },
          "metadata": {
            "needs_background": "light"
          }
        }
      ]
    },
    {
      "cell_type": "code",
      "source": [
        "ppn = Perceptron(eta = 0.5, n_iter = 5)\n",
        "\n",
        "ppn.fit(X,y)\n",
        "\n",
        "plt.plot(range(1, len(ppn.errores_) + 1), ppn.errores_, marker = 'o')\n",
        "plt.xlabel('Epochs')\n",
        "plt.ylabel('Numero de actualizaciones')\n",
        "plt.show()"
      ],
      "metadata": {
        "colab": {
          "base_uri": "https://localhost:8080/",
          "height": 389
        },
        "id": "-vHePBlQX-Q9",
        "outputId": "fe15298d-a94b-43e5-a103-21a8e03eb45d"
      },
      "execution_count": null,
      "outputs": [
        {
          "output_type": "stream",
          "name": "stdout",
          "text": [
            "Pesos iniciales [ 0.01624345 -0.00611756 -0.00528172]\n",
            "Pesos en epoch 0 : [-0.98375655  0.99388244  0.99471828]\n",
            "Pesos en epoch 1 : [1.01624345 0.99388244 0.99471828]\n",
            "Pesos en epoch 2 : [1.01624345 0.99388244 0.99471828]\n",
            "Pesos en epoch 3 : [1.01624345 0.99388244 0.99471828]\n",
            "Pesos en epoch 4 : [1.01624345 0.99388244 0.99471828]\n"
          ]
        },
        {
          "output_type": "display_data",
          "data": {
            "text/plain": [
              "<Figure size 432x288 with 1 Axes>"
            ],
            "image/png": "[encoded data removed]"
          },
          "metadata": {
            "needs_background": "light"
          }
        }
      ]
    },
    {
      "cell_type": "code",
      "source": [
        "from matplotlib.colors import ListedColormap\n",
        "\n",
        "def plot_decision_regions(X, y, classifier, resolution=0.02):\n",
        "\n",
        "    # setup marker generator and color map\n",
        "    markers = ('s', 'x', 'o', '^', 'v')\n",
        "    colors = ('red', 'blue', 'lightgreen', 'gray', 'cyan')\n",
        "    cmap = ListedColormap(colors[:len(np.unique(y))])\n",
        "\n",
        "    # plot the decision surface\n",
        "    x1_min, x1_max = X[:, 0].min() - 1, X[:, 0].max() + 1\n",
        "    x2_min, x2_max = X[:, 1].min() - 1, X[:, 1].max() + 1\n",
        "    xx1, xx2 = np.meshgrid(np.arange(x1_min, x1_max, resolution),\n",
        "                           np.arange(x2_min, x2_max, resolution))\n",
        "    Z = classifier.predice(np.array([xx1.ravel(), xx2.ravel()]).T)\n",
        "    Z = Z.reshape(xx1.shape)\n",
        "    plt.contourf(xx1, xx2, Z, alpha=0.3, cmap=cmap)\n",
        "    plt.xlim(xx1.min(), xx1.max())\n",
        "    plt.ylim(xx2.min(), xx2.max())\n",
        "\n",
        "    # plot class examples\n",
        "    for idx, cl in enumerate(np.unique(y)):\n",
        "        plt.scatter(x=X[y == cl, 0], \n",
        "                    y=X[y == cl, 1],\n",
        "                    alpha=0.8, \n",
        "                    c=colors[idx],\n",
        "                    marker=markers[idx], \n",
        "                    label=cl, \n",
        "                    edgecolor='black')"
      ],
      "metadata": {
        "id": "j4fmsllid3eL"
      },
      "execution_count": null,
      "outputs": []
    },
    {
      "cell_type": "code",
      "source": [
        "plot_decision_regions(X, y, classifier=ppn)\n",
        "plt.xlabel('X1')\n",
        "plt.ylabel('X2')\n",
        "plt.legend(loc='upper left')\n",
        "\n",
        "# plt.savefig('images/02_08.png', dpi=300)\n",
        "plt.show()"
      ],
      "metadata": {
        "colab": {
          "base_uri": "https://localhost:8080/",
          "height": 279
        },
        "id": "gmkQxIseeDmT",
        "outputId": "a47455d3-c721-43bb-891d-0f11cf0a267d"
      },
      "execution_count": null,
      "outputs": [
        {
          "output_type": "display_data",
          "data": {
            "text/plain": [
              "<Figure size 432x288 with 1 Axes>"
            ],
            "image/png": "[encoded data removed]"
          },
          "metadata": {
            "needs_background": "light"
          }
        }
      ]
    }
  ]
}
