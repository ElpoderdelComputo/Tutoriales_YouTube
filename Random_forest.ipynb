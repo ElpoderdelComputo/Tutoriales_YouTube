{
  "nbformat": 4,
  "nbformat_minor": 0,
  "metadata": {
    "colab": {
      "provenance": [],
      "mount_file_id": "1NTWS_m_iCkTSSy5b4XrBLy-JYkIIG2fu",
      "authorship_tag": "ABX9TyNfTs6DQM9SswiQA13996QC",
      "include_colab_link": true
    },
    "kernelspec": {
      "name": "python3",
      "display_name": "Python 3"
    },
    "language_info": {
      "name": "python"
    }
  },
  "cells": [
    {
      "cell_type": "markdown",
      "metadata": {
        "id": "view-in-github",
        "colab_type": "text"
      },
      "source": [
        "<a href=\"https://colab.research.google.com/github/ElpoderdelComputo/Tutoriales_YouTube/blob/main/Random_forest.ipynb\" target=\"_parent\"><img src=\"https://colab.research.google.com/assets/colab-badge.svg\" alt=\"Open In Colab\"/></a>"
      ]
    },
    {
      "cell_type": "markdown",
      "source": [
        "# **Entrenando un Bosque aleatorio**\n",
        "\n",
        "YouTube: El poder del computo"
      ],
      "metadata": {
        "id": "iGgFF9GRnIyy"
      }
    },
    {
      "cell_type": "markdown",
      "source": [
        "**Datos de iris**"
      ],
      "metadata": {
        "id": "zAZ2aNejnhYi"
      }
    },
    {
      "cell_type": "code",
      "source": [
        "from sklearn import datasets\n",
        "import numpy as np\n",
        "# Cargamos los datos de iris\n",
        "\n",
        "iris = datasets.load_iris()\n",
        "X = iris.data[:, [2, 3]]\n",
        "y = iris.target\n",
        "print(X[:5])\n",
        "\n",
        "print('\\nClass labels:', np.unique(y))"
      ],
      "metadata": {
        "colab": {
          "base_uri": "https://localhost:8080/"
        },
        "id": "7afnpnGOnoGZ",
        "outputId": "3b51a072-794a-4812-d105-49642419e1c9"
      },
      "execution_count": 31,
      "outputs": [
        {
          "output_type": "stream",
          "name": "stdout",
          "text": [
            "[[1.4 0.2]\n",
            " [1.4 0.2]\n",
            " [1.3 0.2]\n",
            " [1.5 0.2]\n",
            " [1.4 0.2]]\n",
            "\n",
            "Class labels: [0 1 2]\n"
          ]
        }
      ]
    },
    {
      "cell_type": "code",
      "source": [],
      "metadata": {
        "id": "Yn2st9P4tHkY"
      },
      "execution_count": null,
      "outputs": []
    },
    {
      "cell_type": "code",
      "source": [
        "from sklearn.model_selection import train_test_split\n",
        "\n",
        "# 80 % del conjunto de datos para entrenamiento y 20 % para validacion\n",
        "X_train, X_test, y_train, y_test = train_test_split(X, y,\n",
        "                                                    test_size = 0.2,\n",
        "                                                    random_state = 1,\n",
        "                                                    stratify = y)"
      ],
      "metadata": {
        "id": "gZ4ZSMFNo6-c"
      },
      "execution_count": 32,
      "outputs": []
    },
    {
      "cell_type": "code",
      "source": [
        "print('Numero de muestras en y:', np.bincount(y))\n",
        "print('Numero de muestras en y_train:', np.bincount(y_train))\n",
        "print('Numero de muestras en y_test:', np.bincount(y_test))"
      ],
      "metadata": {
        "colab": {
          "base_uri": "https://localhost:8080/"
        },
        "id": "K4v271DftguL",
        "outputId": "ca85006d-a47f-4b3d-8c18-441b2bfb9844"
      },
      "execution_count": 33,
      "outputs": [
        {
          "output_type": "stream",
          "name": "stdout",
          "text": [
            "Numero de muestras en y: [50 50 50]\n",
            "Numero de muestras en y_train: [40 40 40]\n",
            "Numero de muestras en y_test: [10 10 10]\n"
          ]
        }
      ]
    },
    {
      "cell_type": "code",
      "source": [
        "from sklearn.preprocessing import StandardScaler\n",
        "# Estandarizar los datos\n",
        "sc = StandardScaler()\n",
        "sc.fit(X_train)\n",
        "\n",
        "X_train_std = sc.transform(X_train)\n",
        "X_test_std = sc.transform(X_test)"
      ],
      "metadata": {
        "id": "3aDyR_lCrBak"
      },
      "execution_count": 34,
      "outputs": []
    },
    {
      "cell_type": "code",
      "source": [
        "# Crear el modelo para ajustar\n",
        "from sklearn.ensemble import RandomForestClassifier\n",
        "bosque = RandomForestClassifier(n_estimators=25,\n",
        "                                criterion='entropy',\n",
        "                                max_features='sqrt',\n",
        "                                max_depth=10)\n",
        "\n",
        "bosque.fit(X_train_std, y_train)\n",
        "\n",
        "# Precision global de clasificación corecta\n",
        "print('Train Accuracy : %.5f' % bosque.score(X_train_std, y_train))\n",
        "print('Test Accuracy : %.5f' % bosque.score(X_test_std, y_test))"
      ],
      "metadata": {
        "colab": {
          "base_uri": "https://localhost:8080/"
        },
        "id": "JYq9Q4tRuCis",
        "outputId": "d7797c25-f2a7-4b4e-f7a2-fd7c5a2c50f7"
      },
      "execution_count": 47,
      "outputs": [
        {
          "output_type": "stream",
          "name": "stdout",
          "text": [
            "Train Accuracy : 0.99167\n",
            "Test Accuracy : 0.96667\n"
          ]
        }
      ]
    },
    {
      "cell_type": "code",
      "source": [
        "from matplotlib.colors import ListedColormap\n",
        "import matplotlib.pyplot as plt\n",
        "\n",
        "def plot_decision_regions(X, y, classifier, test_idx=None, resolution=0.02):\n",
        "\n",
        "    # configurar el generador de marcadores y el mapa de colores\n",
        "    markers = ('s', 'x', 'o', '^', 'v')\n",
        "    colors = ('red', 'blue', 'lightgreen', 'gray', 'cyan')\n",
        "    cmap = ListedColormap(colors[:len(np.unique(y))])\n",
        "\n",
        "    # trazar la superficie de decisión\n",
        "    x1_min, x1_max = X[:, 0].min() - 1, X[:, 0].max() + 1\n",
        "    x2_min, x2_max = X[:, 1].min() - 1, X[:, 1].max() + 1\n",
        "    xx1, xx2 = np.meshgrid(np.arange(x1_min, x1_max, resolution),\n",
        "                           np.arange(x2_min, x2_max, resolution))\n",
        "    Z = classifier.predict(np.array([xx1.ravel(), xx2.ravel()]).T)\n",
        "    Z = Z.reshape(xx1.shape)\n",
        "    plt.contourf(xx1, xx2, Z, alpha=0.3, cmap=cmap)\n",
        "    plt.xlim(xx1.min(), xx1.max())\n",
        "    plt.ylim(xx2.min(), xx2.max())\n",
        "\n",
        "    for idx, cl in enumerate(np.unique(y)):\n",
        "        plt.scatter(x=X[y == cl, 0], \n",
        "                    y=X[y == cl, 1],\n",
        "                    alpha=0.8, \n",
        "                    color=colors[idx],\n",
        "                    marker=markers[idx], \n",
        "                    label=cl, \n",
        "                    edgecolor='black')\n",
        "\n",
        "    # resaltar ejemplos de prueba\n",
        "    if test_idx:\n",
        "        # graficar todos los ejemplos\n",
        "        X_test, y_test = X[test_idx, :], y[test_idx]\n",
        "\n",
        "        plt.scatter(X_test[:, 0],\n",
        "                        X_test[:, 1],\n",
        "                        c='none',\n",
        "                        edgecolor='black',\n",
        "                        alpha=1.0,\n",
        "                        linewidth=1,\n",
        "                        marker='o',\n",
        "                        s=100, \n",
        "                        label='test set')   "
      ],
      "metadata": {
        "id": "hpzvwb0YvSWL"
      },
      "execution_count": 48,
      "outputs": []
    },
    {
      "cell_type": "code",
      "source": [
        "# Graficar Region de desición\n",
        "X_combined = np.vstack((X_train_std, X_test_std))\n",
        "y_combined = np.hstack((y_train, y_test))\n",
        "\n",
        "plot_decision_regions(X_combined, y_combined, \n",
        "                      classifier = bosque,\n",
        "                      test_idx = range(105, 150))\n",
        "\n",
        "plt.xlabel('Longitud de pétalo [cm]')\n",
        "plt.ylabel('Ancho de pétalo [cm]')\n",
        "plt.legend(loc='upper left')\n",
        "plt.tight_layout()\n",
        "#plt.savefig('images/03_20.png', dpi=300)\n",
        "plt.show()"
      ],
      "metadata": {
        "colab": {
          "base_uri": "https://localhost:8080/",
          "height": 297
        },
        "id": "g4OE1yX4vWmy",
        "outputId": "35e82d42-2623-424d-8d11-e9905b674475"
      },
      "execution_count": 49,
      "outputs": [
        {
          "output_type": "display_data",
          "data": {
            "text/plain": [
              "<Figure size 432x288 with 1 Axes>"
            ],
            "image/png": "[encoded data removed]"
          },
          "metadata": {
            "needs_background": "light"
          }
        }
      ]
    },
    {
      "cell_type": "code",
      "source": [
        "from sklearn.metrics import confusion_matrix\n",
        "from sklearn.metrics import ConfusionMatrixDisplay\n",
        "\n",
        "y_pred = bosque.predict(X_test_std)\n",
        "cm = confusion_matrix(y_test, y_pred, normalize='true')\n",
        "\n",
        "cm_display = ConfusionMatrixDisplay(cm, display_labels=['I','S','V'])\n",
        "cm_display.plot()\n",
        "cm_display.ax_.set(title='RF2022', xlabel='Clases predichas', ylabel='Clases verdaderas')"
      ],
      "metadata": {
        "colab": {
          "base_uri": "https://localhost:8080/",
          "height": 350
        },
        "id": "LvbCGES7vozD",
        "outputId": "85ecaf22-c355-4f6b-c9bd-db8da68f4707"
      },
      "execution_count": 50,
      "outputs": [
        {
          "output_type": "execute_result",
          "data": {
            "text/plain": [
              "[Text(0, 0.5, 'Clases verdaderas'),\n",
              " Text(0.5, 0, 'Clases predichas'),\n",
              " Text(0.5, 1.0, 'RF2022')]"
            ]
          },
          "metadata": {},
          "execution_count": 50
        },
        {
          "output_type": "display_data",
          "data": {
            "text/plain": [
              "<Figure size 432x288 with 2 Axes>"
            ],
            "image/png": "[encoded data removed]"
          },
          "metadata": {
            "needs_background": "light"
          }
        }
      ]
    },
    {
      "cell_type": "code",
      "source": [
        "from sklearn.metrics import precision_recall_fscore_support as score\n",
        "\n",
        "precision, recall, fscore, support = score(y_test, y_pred)\n",
        "\n",
        "print('Precision: {}'.format(precision))\n",
        "print('Recall: {}'.format(recall))\n",
        "print('F1score: {}'.format(fscore))\n",
        "print('Support: {}'.format(support))"
      ],
      "metadata": {
        "colab": {
          "base_uri": "https://localhost:8080/"
        },
        "id": "G8RSHRu8wQG0",
        "outputId": "dea62621-7285-4d1c-c74b-ddc0f3b1db41"
      },
      "execution_count": 51,
      "outputs": [
        {
          "output_type": "stream",
          "name": "stdout",
          "text": [
            "Precision: [1.         0.90909091 1.        ]\n",
            "Recall: [1.  1.  0.9]\n",
            "F1score: [1.         0.95238095 0.94736842]\n",
            "Support: [10 10 10]\n"
          ]
        }
      ]
    }
  ]
}