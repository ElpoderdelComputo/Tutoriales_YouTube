{
  "cells": [
    {
      "cell_type": "markdown",
      "metadata": {
        "id": "view-in-github",
        "colab_type": "text"
      },
      "source": [
        "<a href=\"https://colab.research.google.com/github/ElpoderdelComputo/Tutoriales_YouTube/blob/main/Red_cov22.ipynb\" target=\"_parent\"><img src=\"https://colab.research.google.com/assets/colab-badge.svg\" alt=\"Open In Colab\"/></a>"
      ]
    },
    {
      "cell_type": "code",
      "execution_count": null,
      "metadata": {
        "id": "6ILzjaIRbsmg"
      },
      "outputs": [],
      "source": [
        "#Importar librerias\n",
        "\n",
        "import os\n",
        "from keras.preprocessing.image import ImageDataGenerator\n",
        "from tensorflow import keras\n",
        "from tensorflow.keras import layers"
      ]
    },
    {
      "cell_type": "code",
      "execution_count": null,
      "metadata": {
        "id": "ug_cDlfpb9Lh"
      },
      "outputs": [],
      "source": [
        "# Arquitectura del modelo\n",
        "def build_model(optimizer,kz,drop):\n",
        "    model = keras.Sequential([\n",
        "        keras.Input(shape=(20, 20, 3)),\n",
        "        layers.Conv2D(filters=32, kernel_size=kz, activation=\"relu\"),\n",
        "        layers.MaxPooling2D(pool_size=2),\n",
        "        layers.Conv2D(filters=64, kernel_size=kz, activation=\"relu\"),\n",
        "        layers.MaxPooling2D(pool_size=2),\n",
        "        layers.Conv2D(filters=128, kernel_size=kz, activation=\"relu\"),\n",
        "        layers.Flatten(),\n",
        "        layers.Dropout(drop),\n",
        "        layers.Dense(4, activation=\"softmax\")\n",
        "        ])\n",
        "    model.compile(optimizer=optimizer,\n",
        "                  loss=\"categorical_crossentropy\",\n",
        "                  metrics=[\"accuracy\"])\n",
        "    return model"
      ]
    },
    {
      "cell_type": "code",
      "execution_count": null,
      "metadata": {
        "colab": {
          "base_uri": "https://localhost:8080/"
        },
        "id": "QLm1XBL7TnIK",
        "outputId": "91c9c5a7-9806-406a-acd6-4d4da5e20429"
      },
      "outputs": [
        {
          "output_type": "stream",
          "name": "stdout",
          "text": [
            "\n",
            "Numero de clases: 4\n"
          ]
        }
      ],
      "source": [
        "# Leer las imagenes de entrenamiento\n",
        "data_entrenamiento = '/content/drive/MyDrive/Img_mezcla/TRAIN'\n",
        "\n",
        "# Muestra cuantas imagenes hay por clase\n",
        "print('\\nNumero de clases:', len(os.listdir(data_entrenamiento)))"
      ]
    },
    {
      "cell_type": "code",
      "execution_count": null,
      "metadata": {
        "colab": {
          "base_uri": "https://localhost:8080/"
        },
        "id": "9pe6qZP8eC-L",
        "outputId": "a256d5b4-3b78-4ff4-f1bf-9f88b9dfbc69"
      },
      "outputs": [
        {
          "output_type": "stream",
          "name": "stdout",
          "text": [
            "Found 320 images belonging to 4 classes.\n"
          ]
        }
      ],
      "source": [
        "batch_size = 12\n",
        "epochs = 30\n",
        "\n",
        "#Preparamos imagenes de entrenamiento\n",
        "entrenamiento_datagen = ImageDataGenerator(\n",
        "    rescale=1./255)\n",
        "\n",
        "train_images = entrenamiento_datagen.flow_from_directory(\n",
        "    data_entrenamiento,\n",
        "    target_size=(20, 20),\n",
        "    color_mode='rgb',\n",
        "    batch_size=batch_size,\n",
        "    class_mode='categorical',\n",
        "    shuffle=False,\n",
        "    seed=1)"
      ]
    },
    {
      "cell_type": "code",
      "execution_count": null,
      "metadata": {
        "id": "BkW4_7plcjGi"
      },
      "outputs": [],
      "source": [
        "# Leer las imagenes de Validacion\n",
        "data_valida = '/content/drive/MyDrive/Img_mezcla/VALIDA'"
      ]
    },
    {
      "cell_type": "code",
      "execution_count": null,
      "metadata": {
        "colab": {
          "base_uri": "https://localhost:8080/"
        },
        "id": "i4Ftedi8UE67",
        "outputId": "7f78a935-c631-4468-8544-b13bc0479340"
      },
      "outputs": [
        {
          "output_type": "stream",
          "name": "stdout",
          "text": [
            "Found 80 images belonging to 4 classes.\n"
          ]
        }
      ],
      "source": [
        "# preparamos las imagenes de Validacion\n",
        "prueba_datagen = ImageDataGenerator(\n",
        "    rescale=1. / 255)\n",
        "\n",
        "valida_images = prueba_datagen.flow_from_directory(\n",
        "    data_valida,\n",
        "    target_size=(20, 20),\n",
        "    color_mode='rgb',\n",
        "    batch_size=batch_size,\n",
        "    class_mode='categorical',\n",
        "    shuffle=False,\n",
        "    seed=1)\n"
      ]
    },
    {
      "cell_type": "code",
      "execution_count": null,
      "metadata": {
        "id": "lQ0G81JfE1KZ"
      },
      "outputs": [],
      "source": [
        "# Leer las imagenes de TEST\n",
        "data_test = '/content/drive/MyDrive/Img_mezcla/TEST'"
      ]
    },
    {
      "cell_type": "code",
      "execution_count": null,
      "metadata": {
        "colab": {
          "base_uri": "https://localhost:8080/"
        },
        "id": "LFPjRCR7FEhI",
        "outputId": "b31ad36f-e3ee-4203-9bb9-3a422d9f431f"
      },
      "outputs": [
        {
          "output_type": "stream",
          "name": "stdout",
          "text": [
            "Found 80 images belonging to 4 classes.\n"
          ]
        }
      ],
      "source": [
        "# preparamos las imagenes para predecir\n",
        "prueba_datagen = ImageDataGenerator(\n",
        "    rescale=1. / 255)\n",
        "\n",
        "test_images = prueba_datagen.flow_from_directory(\n",
        "    data_test,\n",
        "    target_size=(20, 20),\n",
        "    color_mode='rgb',\n",
        "    batch_size=batch_size,\n",
        "    class_mode='categorical',\n",
        "    shuffle=False,\n",
        "    seed=1)"
      ]
    },
    {
      "cell_type": "code",
      "execution_count": null,
      "metadata": {
        "colab": {
          "base_uri": "https://localhost:8080/"
        },
        "id": "UJKH3yB1UHUn",
        "outputId": "6e66322a-9bad-4515-fccb-239824976fd6"
      },
      "outputs": [
        {
          "output_type": "stream",
          "name": "stdout",
          "text": [
            "\n",
            "Inicia Entrenamiento y ajuste del modelo\n"
          ]
        }
      ],
      "source": [
        "print('\\nInicia Entrenamiento y ajuste del modelo')\n",
        "# Definimos parametros del modelo\n",
        "kernel_size = 3\n",
        "drop_out = 0.15\n",
        "optimizer = 'adam'\n",
        "\n",
        "model = build_model(optimizer, kernel_size, drop_out)\n",
        "callbacks = [\n",
        "    keras.callbacks.ModelCheckpoint(\n",
        "        filepath=\"cnn_L8.keras\",\n",
        "        save_best_only=True,\n",
        "        monitor=\"val_loss\",\n",
        "        verbose=1)]\n",
        ""
      ]
    },
    {
      "cell_type": "code",
      "execution_count": null,
      "metadata": {
        "colab": {
          "base_uri": "https://localhost:8080/"
        },
        "id": "ayVK1_UMyyMd",
        "outputId": "60a811d8-721b-42f5-8911-207622455bd0"
      },
      "outputs": [
        {
          "output_type": "stream",
          "name": "stdout",
          "text": [
            "Model: \"sequential\"\n",
            "_________________________________________________________________\n",
            " Layer (type)                Output Shape              Param #   \n",
            "=================================================================\n",
            " conv2d (Conv2D)             (None, 18, 18, 32)        896       \n",
            "                                                                 \n",
            " max_pooling2d (MaxPooling2D  (None, 9, 9, 32)         0         \n",
            " )                                                               \n",
            "                                                                 \n",
            " conv2d_1 (Conv2D)           (None, 7, 7, 64)          18496     \n",
            "                                                                 \n",
            " max_pooling2d_1 (MaxPooling  (None, 3, 3, 64)         0         \n",
            " 2D)                                                             \n",
            "                                                                 \n",
            " conv2d_2 (Conv2D)           (None, 1, 1, 128)         73856     \n",
            "                                                                 \n",
            " flatten (Flatten)           (None, 128)               0         \n",
            "                                                                 \n",
            " dropout (Dropout)           (None, 128)               0         \n",
            "                                                                 \n",
            " dense (Dense)               (None, 4)                 516       \n",
            "                                                                 \n",
            "=================================================================\n",
            "Total params: 93,764\n",
            "Trainable params: 93,764\n",
            "Non-trainable params: 0\n",
            "_________________________________________________________________\n"
          ]
        }
      ],
      "source": [
        "model.summary()"
      ]
    },
    {
      "cell_type": "code",
      "execution_count": null,
      "metadata": {
        "colab": {
          "base_uri": "https://localhost:8080/"
        },
        "id": "_Alp7uddUKk3",
        "outputId": "b03112cc-497a-4aba-99b3-37a8e84f13a8"
      },
      "outputs": [
        {
          "output_type": "stream",
          "name": "stdout",
          "text": [
            "\n",
            "\n",
            "INICIA TEST\n",
            "\n",
            "Epoch 1/30\n",
            "27/27 [==============================] - ETA: 0s - loss: 1.4220 - accuracy: 0.1562\n",
            "Epoch 1: val_loss improved from inf to 1.32698, saving model to cnn_L8.keras\n",
            "27/27 [==============================] - 299s 11s/step - loss: 1.4220 - accuracy: 0.1562 - val_loss: 1.3270 - val_accuracy: 0.2625\n",
            "Epoch 2/30\n",
            "26/27 [===========================>..] - ETA: 0s - loss: 1.3289 - accuracy: 0.2792\n",
            "Epoch 2: val_loss improved from 1.32698 to 1.27071, saving model to cnn_L8.keras\n",
            "27/27 [==============================] - 1s 28ms/step - loss: 1.3420 - accuracy: 0.2688 - val_loss: 1.2707 - val_accuracy: 0.2500\n",
            "Epoch 3/30\n",
            "27/27 [==============================] - ETA: 0s - loss: 1.2975 - accuracy: 0.3313\n",
            "Epoch 3: val_loss improved from 1.27071 to 1.23851, saving model to cnn_L8.keras\n",
            "27/27 [==============================] - 1s 27ms/step - loss: 1.2975 - accuracy: 0.3313 - val_loss: 1.2385 - val_accuracy: 0.4625\n",
            "Epoch 4/30\n",
            "25/27 [==========================>...] - ETA: 0s - loss: 1.1755 - accuracy: 0.4054\n",
            "Epoch 4: val_loss improved from 1.23851 to 1.07900, saving model to cnn_L8.keras\n",
            "27/27 [==============================] - 1s 26ms/step - loss: 1.1737 - accuracy: 0.4406 - val_loss: 1.0790 - val_accuracy: 0.5625\n",
            "Epoch 5/30\n",
            "27/27 [==============================] - ETA: 0s - loss: 1.1680 - accuracy: 0.4187\n",
            "Epoch 5: val_loss improved from 1.07900 to 1.01306, saving model to cnn_L8.keras\n",
            "27/27 [==============================] - 1s 34ms/step - loss: 1.1680 - accuracy: 0.4187 - val_loss: 1.0131 - val_accuracy: 0.6000\n",
            "Epoch 6/30\n",
            "27/27 [==============================] - ETA: 0s - loss: 0.9444 - accuracy: 0.5969\n",
            "Epoch 6: val_loss did not improve from 1.01306\n",
            "27/27 [==============================] - 1s 29ms/step - loss: 0.9444 - accuracy: 0.5969 - val_loss: 1.2782 - val_accuracy: 0.4250\n",
            "Epoch 7/30\n",
            "27/27 [==============================] - ETA: 0s - loss: 1.0026 - accuracy: 0.5312\n",
            "Epoch 7: val_loss improved from 1.01306 to 0.74284, saving model to cnn_L8.keras\n",
            "27/27 [==============================] - 1s 36ms/step - loss: 1.0026 - accuracy: 0.5312 - val_loss: 0.7428 - val_accuracy: 0.8500\n",
            "Epoch 8/30\n",
            "27/27 [==============================] - ETA: 0s - loss: 0.6597 - accuracy: 0.7250\n",
            "Epoch 8: val_loss improved from 0.74284 to 0.73698, saving model to cnn_L8.keras\n",
            "27/27 [==============================] - 1s 27ms/step - loss: 0.6597 - accuracy: 0.7250 - val_loss: 0.7370 - val_accuracy: 0.6250\n",
            "Epoch 9/30\n",
            "27/27 [==============================] - ETA: 0s - loss: 0.6390 - accuracy: 0.6969\n",
            "Epoch 9: val_loss improved from 0.73698 to 0.67936, saving model to cnn_L8.keras\n",
            "27/27 [==============================] - 1s 28ms/step - loss: 0.6390 - accuracy: 0.6969 - val_loss: 0.6794 - val_accuracy: 0.6625\n",
            "Epoch 10/30\n",
            "25/27 [==========================>...] - ETA: 0s - loss: 0.6546 - accuracy: 0.6993\n",
            "Epoch 10: val_loss improved from 0.67936 to 0.39602, saving model to cnn_L8.keras\n",
            "27/27 [==============================] - 1s 27ms/step - loss: 0.6459 - accuracy: 0.7031 - val_loss: 0.3960 - val_accuracy: 0.8750\n",
            "Epoch 11/30\n",
            "25/27 [==========================>...] - ETA: 0s - loss: 0.4685 - accuracy: 0.8142\n",
            "Epoch 11: val_loss did not improve from 0.39602\n",
            "27/27 [==============================] - 1s 26ms/step - loss: 0.4352 - accuracy: 0.8281 - val_loss: 0.4950 - val_accuracy: 0.8000\n",
            "Epoch 12/30\n",
            "25/27 [==========================>...] - ETA: 0s - loss: 0.4124 - accuracy: 0.8345\n",
            "Epoch 12: val_loss improved from 0.39602 to 0.31021, saving model to cnn_L8.keras\n",
            "27/27 [==============================] - 1s 27ms/step - loss: 0.4367 - accuracy: 0.8125 - val_loss: 0.3102 - val_accuracy: 0.8875\n",
            "Epoch 13/30\n",
            "25/27 [==========================>...] - ETA: 0s - loss: 0.3866 - accuracy: 0.8277\n",
            "Epoch 13: val_loss did not improve from 0.31021\n",
            "27/27 [==============================] - 1s 26ms/step - loss: 0.4078 - accuracy: 0.8188 - val_loss: 0.3693 - val_accuracy: 0.8500\n",
            "Epoch 14/30\n",
            "25/27 [==========================>...] - ETA: 0s - loss: 0.6110 - accuracy: 0.7095\n",
            "Epoch 14: val_loss did not improve from 0.31021\n",
            "27/27 [==============================] - 1s 26ms/step - loss: 0.5664 - accuracy: 0.7312 - val_loss: 0.4507 - val_accuracy: 0.8000\n",
            "Epoch 15/30\n",
            "25/27 [==========================>...] - ETA: 0s - loss: 0.5155 - accuracy: 0.7534\n",
            "Epoch 15: val_loss did not improve from 0.31021\n",
            "27/27 [==============================] - 1s 26ms/step - loss: 0.5008 - accuracy: 0.7688 - val_loss: 0.3599 - val_accuracy: 0.9500\n",
            "Epoch 16/30\n",
            "25/27 [==========================>...] - ETA: 0s - loss: 0.3846 - accuracy: 0.8767\n",
            "Epoch 16: val_loss improved from 0.31021 to 0.24425, saving model to cnn_L8.keras\n",
            "27/27 [==============================] - 1s 27ms/step - loss: 0.3751 - accuracy: 0.8813 - val_loss: 0.2442 - val_accuracy: 0.9375\n",
            "Epoch 17/30\n",
            "25/27 [==========================>...] - ETA: 0s - loss: 0.3263 - accuracy: 0.8649\n",
            "Epoch 17: val_loss did not improve from 0.24425\n",
            "27/27 [==============================] - 1s 26ms/step - loss: 0.3056 - accuracy: 0.8750 - val_loss: 0.3004 - val_accuracy: 0.8500\n",
            "Epoch 18/30\n",
            "25/27 [==========================>...] - ETA: 0s - loss: 0.2882 - accuracy: 0.8851\n",
            "Epoch 18: val_loss improved from 0.24425 to 0.20224, saving model to cnn_L8.keras\n",
            "27/27 [==============================] - 1s 29ms/step - loss: 0.2777 - accuracy: 0.8938 - val_loss: 0.2022 - val_accuracy: 0.9500\n",
            "Epoch 19/30\n",
            "25/27 [==========================>...] - ETA: 0s - loss: 0.2510 - accuracy: 0.9054\n",
            "Epoch 19: val_loss improved from 0.20224 to 0.18517, saving model to cnn_L8.keras\n",
            "27/27 [==============================] - 1s 28ms/step - loss: 0.2393 - accuracy: 0.9125 - val_loss: 0.1852 - val_accuracy: 0.9250\n",
            "Epoch 20/30\n",
            "27/27 [==============================] - ETA: 0s - loss: 0.3252 - accuracy: 0.8562\n",
            "Epoch 20: val_loss did not improve from 0.18517\n",
            "27/27 [==============================] - 1s 27ms/step - loss: 0.3252 - accuracy: 0.8562 - val_loss: 0.3063 - val_accuracy: 0.8625\n",
            "Epoch 21/30\n",
            "27/27 [==============================] - ETA: 0s - loss: 0.2512 - accuracy: 0.9094\n",
            "Epoch 21: val_loss improved from 0.18517 to 0.15934, saving model to cnn_L8.keras\n",
            "27/27 [==============================] - 1s 34ms/step - loss: 0.2512 - accuracy: 0.9094 - val_loss: 0.1593 - val_accuracy: 0.9750\n",
            "Epoch 22/30\n",
            "25/27 [==========================>...] - ETA: 0s - loss: 0.2233 - accuracy: 0.9257\n",
            "Epoch 22: val_loss did not improve from 0.15934\n",
            "27/27 [==============================] - 1s 28ms/step - loss: 0.2119 - accuracy: 0.9312 - val_loss: 0.2421 - val_accuracy: 0.9375\n",
            "Epoch 23/30\n",
            "26/27 [===========================>..] - ETA: 0s - loss: 0.2438 - accuracy: 0.9123\n",
            "Epoch 23: val_loss improved from 0.15934 to 0.12590, saving model to cnn_L8.keras\n",
            "27/27 [==============================] - 1s 30ms/step - loss: 0.2393 - accuracy: 0.9156 - val_loss: 0.1259 - val_accuracy: 0.9750\n",
            "Epoch 24/30\n",
            "25/27 [==========================>...] - ETA: 0s - loss: 0.1391 - accuracy: 0.9662\n",
            "Epoch 24: val_loss improved from 0.12590 to 0.11923, saving model to cnn_L8.keras\n",
            "27/27 [==============================] - 1s 27ms/step - loss: 0.1320 - accuracy: 0.9688 - val_loss: 0.1192 - val_accuracy: 0.9750\n",
            "Epoch 25/30\n",
            "25/27 [==========================>...] - ETA: 0s - loss: 0.2657 - accuracy: 0.9088\n",
            "Epoch 25: val_loss did not improve from 0.11923\n",
            "27/27 [==============================] - 1s 27ms/step - loss: 0.2554 - accuracy: 0.9094 - val_loss: 0.3116 - val_accuracy: 0.8500\n",
            "Epoch 26/30\n",
            "25/27 [==========================>...] - ETA: 0s - loss: 0.2270 - accuracy: 0.9189\n",
            "Epoch 26: val_loss did not improve from 0.11923\n",
            "27/27 [==============================] - 1s 27ms/step - loss: 0.2430 - accuracy: 0.9125 - val_loss: 0.2482 - val_accuracy: 0.8875\n",
            "Epoch 27/30\n",
            "27/27 [==============================] - ETA: 0s - loss: 0.2257 - accuracy: 0.9312\n",
            "Epoch 27: val_loss did not improve from 0.11923\n",
            "27/27 [==============================] - 1s 27ms/step - loss: 0.2257 - accuracy: 0.9312 - val_loss: 0.1200 - val_accuracy: 0.9625\n",
            "Epoch 28/30\n",
            "27/27 [==============================] - ETA: 0s - loss: 0.1534 - accuracy: 0.9531\n",
            "Epoch 28: val_loss did not improve from 0.11923\n",
            "27/27 [==============================] - 1s 26ms/step - loss: 0.1534 - accuracy: 0.9531 - val_loss: 0.1754 - val_accuracy: 0.9125\n",
            "Epoch 29/30\n",
            "25/27 [==========================>...] - ETA: 0s - loss: 0.1340 - accuracy: 0.9527\n",
            "Epoch 29: val_loss did not improve from 0.11923\n",
            "27/27 [==============================] - 1s 25ms/step - loss: 0.1282 - accuracy: 0.9563 - val_loss: 0.1257 - val_accuracy: 0.9500\n",
            "Epoch 30/30\n",
            "27/27 [==============================] - ETA: 0s - loss: 0.1395 - accuracy: 0.9563\n",
            "Epoch 30: val_loss improved from 0.11923 to 0.10687, saving model to cnn_L8.keras\n",
            "27/27 [==============================] - 1s 26ms/step - loss: 0.1395 - accuracy: 0.9563 - val_loss: 0.1069 - val_accuracy: 0.9750\n",
            "FIN\n"
          ]
        }
      ],
      "source": [
        "from numpy.random.mtrand import seed\n",
        "print('\\n\\nINICIA TEST\\n')\n",
        "history = model.fit(\n",
        "    train_images,\n",
        "    epochs=30,\n",
        "    batch_size=12,\n",
        "    validation_data=test_images,\n",
        "    callbacks=callbacks)\n",
        "\n",
        "print('FIN')"
      ]
    },
    {
      "cell_type": "code",
      "execution_count": null,
      "metadata": {
        "id": "pMgAjV3hfeBl",
        "colab": {
          "base_uri": "https://localhost:8080/",
          "height": 545
        },
        "outputId": "c22c15c0-367c-4023-892b-1c28249d22f2"
      },
      "outputs": [
        {
          "output_type": "display_data",
          "data": {
            "text/plain": [
              "<Figure size 432x288 with 1 Axes>"
            ],
            "image/png": "[encoded data removed]"
          },
          "metadata": {
            "needs_background": "light"
          }
        },
        {
          "output_type": "display_data",
          "data": {
            "text/plain": [
              "<Figure size 432x288 with 1 Axes>"
            ],
            "image/png": "[encoded data removed]"
          },
          "metadata": {
            "needs_background": "light"
          }
        }
      ],
      "source": [
        "## Graficando perdidas\n",
        "import matplotlib.pyplot as plt\n",
        "accuracy = history.history[\"accuracy\"]\n",
        "val_accuracy = history.history[\"val_accuracy\"]\n",
        "loss = history.history[\"loss\"]\n",
        "val_loss = history.history[\"val_loss\"]\n",
        "epochs = range(1, len(accuracy) + 1)\n",
        "plt.plot(epochs, accuracy, \"bo\", label=\"Precisión global Entrenamiento\")\n",
        "plt.plot(epochs, val_accuracy, \"b\", label=\"Precisión global de validación\")\n",
        "plt.title(\"Precisión global de entrenamiento y validación\")\n",
        "plt.legend()\n",
        "plt.figure()\n",
        "plt.plot(epochs, loss, \"bo\", label=\"Pérdida en entrenamiento\")\n",
        "plt.plot(epochs, val_loss, \"b\", label=\"Pérdida en validación\")\n",
        "plt.title(\"Pérdida en entrenamiento y validación\")\n",
        "plt.legend()\n",
        "plt.show()"
      ]
    },
    {
      "cell_type": "code",
      "execution_count": null,
      "metadata": {
        "id": "p-Vk8hVgfj-d",
        "colab": {
          "base_uri": "https://localhost:8080/"
        },
        "outputId": "969d7165-17fc-4826-8ca4-e869e6177e34"
      },
      "outputs": [
        {
          "output_type": "stream",
          "name": "stdout",
          "text": [
            "7/7 [==============================] - 0s 18ms/step - loss: 0.1069 - accuracy: 0.9750\n",
            "Val accuracy: 0.975\n"
          ]
        }
      ],
      "source": [
        "model = keras.models.load_model(\"cnn_L8.keras\")\n",
        "test_loss, test_acc = model.evaluate(test_images)\n",
        "print(f\"Val accuracy: {test_acc:.3f}\")"
      ]
    },
    {
      "cell_type": "code",
      "execution_count": null,
      "metadata": {
        "id": "U9ykTJiHER9b",
        "colab": {
          "base_uri": "https://localhost:8080/"
        },
        "outputId": "8fd6c8b1-aa61-4800-d18d-f5b1e3eb1211"
      },
      "outputs": [
        {
          "output_type": "stream",
          "name": "stderr",
          "text": [
            "<ipython-input-14-f75546f6db58>:6: UserWarning: `Model.predict_generator` is deprecated and will be removed in a future version. Please use `Model.predict`, which supports generators.\n",
            "  Y_pred = model.predict_generator(test_images)\n"
          ]
        },
        {
          "output_type": "stream",
          "name": "stdout",
          "text": [
            "Matriz de confusión\n",
            "\n",
            "[[20  0  0  0]\n",
            " [ 0 20  0  0]\n",
            " [ 0  2 18  0]\n",
            " [ 0  0  0 20]]\n",
            "\n",
            " Reporte de Clasificación\n",
            "\n",
            "              precision    recall  f1-score   support\n",
            "\n",
            "  1.Agricola       1.00      1.00      1.00        20\n",
            "2.Pastizales       0.91      1.00      0.95        20\n",
            "3.Vegetacion       1.00      0.90      0.95        20\n",
            "    4.Urbano       1.00      1.00      1.00        20\n",
            "\n",
            "    accuracy                           0.97        80\n",
            "   macro avg       0.98      0.97      0.97        80\n",
            "weighted avg       0.98      0.97      0.97        80\n",
            "\n"
          ]
        }
      ],
      "source": [
        "import sklearn.metrics as metrics\n",
        "import pandas as pd\n",
        "from sklearn.metrics import classification_report, confusion_matrix\n",
        "import numpy as np\n",
        "\n",
        "Y_pred = model.predict_generator(test_images)\n",
        "y_pred = np.argmax(Y_pred, axis=1)\n",
        "\n",
        "print('Matriz de confusión\\n')\n",
        "print(confusion_matrix(test_images.classes, y_pred))\n",
        "print('\\n Reporte de Clasificación\\n')\n",
        "\n",
        "target_names = test_images.classes\n",
        "class_labels = list(test_images.class_indices.keys())\n",
        "report = classification_report(target_names, y_pred, target_names=class_labels)\n",
        "print(report)"
      ]
    },
    {
      "cell_type": "code",
      "execution_count": null,
      "metadata": {
        "id": "RUL8Xx7HOGts",
        "colab": {
          "base_uri": "https://localhost:8080/",
          "height": 347
        },
        "outputId": "9b10fe69-f9cc-433e-fd56-1fd46c7ac8b3"
      },
      "outputs": [
        {
          "output_type": "execute_result",
          "data": {
            "text/plain": [
              "[Text(0.5, 1.0, 'Matriz de confusión CNN'),\n",
              " Text(0.5, 0, 'Clases predichas'),\n",
              " Text(0, 0.5, 'Clases verdaderas')]"
            ]
          },
          "metadata": {},
          "execution_count": 15
        },
        {
          "output_type": "display_data",
          "data": {
            "text/plain": [
              "<Figure size 432x288 with 2 Axes>"
            ],
            "image/png": "[encoded data removed]"
          },
          "metadata": {
            "needs_background": "light"
          }
        }
      ],
      "source": [
        "from sklearn.metrics import ConfusionMatrixDisplay\n",
        "#cm = confusion_matrix(Pred_images.classes, y_pred, normalize='true')\n",
        "cm = confusion_matrix(test_images.classes, y_pred)\n",
        "cm_display = ConfusionMatrixDisplay(cm, display_labels=['A','P','V','U'])\n",
        "cm_display.plot()\n",
        "# Agrega titulos y ejes y mostrar\n",
        "cm_display.ax_.set(title='Matriz de confusión CNN', xlabel='Clases predichas', ylabel='Clases verdaderas')"
      ]
    },
    {
      "cell_type": "code",
      "execution_count": null,
      "metadata": {
        "id": "CE6Scw63Vmuy"
      },
      "outputs": [],
      "source": [
        "# Preprocesando una imagen\n",
        "import numpy as np\n",
        "\n",
        "#img_path = keras.utils.load_img(path =\"/content/drive/MyDrive/Img_redCovNet/Vegetacion 26.jpg\")\n",
        "img_path = \"/content/drive/MyDrive/Img_mezcla/VALIDA/1.Agricola/Agricola 13.jpg\"\n",
        "\n",
        "def get_img_array(img_path, target_size):\n",
        "    img = keras.utils.load_img(img_path,\n",
        "                               target_size=target_size)\n",
        "    array = keras.utils.img_to_array(img)\n",
        "    array = np.expand_dims(array, axis=0)\n",
        "    return array\n",
        "\n",
        "img_tensor = get_img_array(img_path, target_size=(20, 20))"
      ]
    },
    {
      "cell_type": "code",
      "execution_count": null,
      "metadata": {
        "id": "P89shjEa-f8j",
        "colab": {
          "base_uri": "https://localhost:8080/",
          "height": 248
        },
        "outputId": "4ef72dbf-5447-4c05-f624-62a467e47d62"
      },
      "outputs": [
        {
          "output_type": "display_data",
          "data": {
            "text/plain": [
              "<Figure size 432x288 with 1 Axes>"
            ],
            "image/png": "[encoded data removed]"
          },
          "metadata": {
            "needs_background": "light"
          }
        }
      ],
      "source": [
        "# Mostrar una imagen\n",
        "import matplotlib.pyplot as plt\n",
        "plt.axis(\"off\")\n",
        "plt.imshow(img_tensor[0].astype(\"uint8\"))\n",
        "plt.show()"
      ]
    },
    {
      "cell_type": "code",
      "execution_count": null,
      "metadata": {
        "id": "wYAiTc4R-jhO"
      },
      "outputs": [],
      "source": [
        "from tensorflow.keras import layers\n",
        "\n",
        "layer_outputs = []\n",
        "layer_names = []\n",
        "for layer in model.layers:\n",
        "    if isinstance(layer, (layers.Conv2D, layers.MaxPooling2D)):\n",
        "        layer_outputs.append(layer.output)\n",
        "        layer_names.append(layer.name)\n",
        "\n",
        "activation_model = keras.Model(inputs=model.input, outputs=layer_outputs)"
      ]
    },
    {
      "cell_type": "code",
      "execution_count": null,
      "metadata": {
        "id": "3_iFo9Ox-mZM",
        "colab": {
          "base_uri": "https://localhost:8080/",
          "height": 327
        },
        "outputId": "d33bef88-056c-4795-acd0-05051863b2cd"
      },
      "outputs": [
        {
          "output_type": "stream",
          "name": "stdout",
          "text": [
            "1/1 [==============================] - 0s 138ms/step\n",
            "(1, 7, 7, 64)\n"
          ]
        },
        {
          "output_type": "execute_result",
          "data": {
            "text/plain": [
              "<matplotlib.image.AxesImage at 0x7fd4b0240e50>"
            ]
          },
          "metadata": {},
          "execution_count": 19
        },
        {
          "output_type": "display_data",
          "data": {
            "text/plain": [
              "<Figure size 288x288 with 1 Axes>"
            ],
            "image/png": "[encoded data removed]"
          },
          "metadata": {
            "needs_background": "light"
          }
        }
      ],
      "source": [
        "activations = activation_model.predict(img_tensor)\n",
        "first_layer_activation = activations[2]\n",
        "print(first_layer_activation.shape)\n",
        "\n",
        "plt.matshow(first_layer_activation[0, :, :, 5], cmap=\"viridis\")"
      ]
    },
    {
      "cell_type": "code",
      "execution_count": null,
      "metadata": {
        "id": "ss0POV1VAZs8",
        "colab": {
          "base_uri": "https://localhost:8080/",
          "height": 1000
        },
        "outputId": "703752df-322a-4b83-ba83-99a6cf524740"
      },
      "outputs": [
        {
          "output_type": "stream",
          "name": "stderr",
          "text": [
            "<ipython-input-20-71d4850419c0>:14: RuntimeWarning: invalid value encountered in true_divide\n",
            "  channel_image /= channel_image.std()\n"
          ]
        },
        {
          "output_type": "display_data",
          "data": {
            "text/plain": [
              "<Figure size 604x300 with 1 Axes>"
            ],
            "image/png": "[encoded data removed]"
          },
          "metadata": {
            "needs_background": "light"
          }
        },
        {
          "output_type": "display_data",
          "data": {
            "text/plain": [
              "<Figure size 632x312 with 1 Axes>"
            ],
            "image/png": "[encoded data removed]"
          },
          "metadata": {
            "needs_background": "light"
          }
        },
        {
          "output_type": "display_data",
          "data": {
            "text/plain": [
              "<Figure size 648x648 with 1 Axes>"
            ],
            "image/png": "[encoded data removed]"
          },
          "metadata": {
            "needs_background": "light"
          }
        },
        {
          "output_type": "display_data",
          "data": {
            "text/plain": [
              "<Figure size 744x744 with 1 Axes>"
            ],
            "image/png": "[encoded data removed]"
          },
          "metadata": {
            "needs_background": "light"
          }
        },
        {
          "output_type": "display_data",
          "data": {
            "text/plain": [
              "<Figure size 1080x2232 with 1 Axes>"
            ],
            "image/png": "[encoded data removed]"
          },
          "metadata": {
            "needs_background": "light"
          }
        }
      ],
      "source": [
        "images_per_row = 8\n",
        "for layer_name, layer_activation in zip(layer_names, activations):\n",
        "    n_features = layer_activation.shape[-1]\n",
        "    size = layer_activation.shape[1]\n",
        "    n_cols = n_features // images_per_row\n",
        "    display_grid = np.zeros(((size + 1) * n_cols - 1,\n",
        "                             images_per_row * (size + 1) - 1))\n",
        "    for col in range(n_cols):\n",
        "        for row in range(images_per_row):\n",
        "            channel_index = col * images_per_row + row\n",
        "            channel_image = layer_activation[0, :, :, channel_index].copy()\n",
        "            if channel_image.sum() != 0:\n",
        "                channel_image -= channel_image.mean()\n",
        "                channel_image /= channel_image.std()\n",
        "                channel_image *= 64\n",
        "                channel_image += 128\n",
        "            channel_image = np.clip(channel_image, 0, 255).astype(\"uint8\")\n",
        "            display_grid[\n",
        "                col * (size + 1): (col + 1) * size + col,\n",
        "                row * (size + 1) : (row + 1) * size + row] = channel_image\n",
        "    scale = 1. / size\n",
        "    plt.figure(figsize=(scale * display_grid.shape[1],\n",
        "                        scale * display_grid.shape[0]))\n",
        "    plt.title(layer_name)\n",
        "    plt.grid(False)\n",
        "    plt.axis(\"off\")\n",
        "    plt.imshow(display_grid, aspect=\"auto\", cmap=\"viridis\")"
      ]
    },
    {
      "cell_type": "code",
      "execution_count": null,
      "metadata": {
        "id": "NnshovSSwKuK",
        "colab": {
          "base_uri": "https://localhost:8080/",
          "height": 140
        },
        "outputId": "b6abbd75-e10e-4049-d707-f3f57a00979a"
      },
      "outputs": [
        {
          "output_type": "execute_result",
          "data": {
            "text/plain": [
              "'\\nfrom numpy.random.mtrand import seed\\nresulta = []\\ncontar = 1\\nkernel = [2,3]\\ndropout = [0.1,0.15,0.2,0.25]\\nLoptimizer = [\\'rmsprop\\',\\'adam\\']\\n\\nk=0\\nfor i in kernel:\\n  kernel_size = kernel[k]\\n  d=0\\n  for j in dropout:\\n    drop_out= dropout[d]\\n    z = 0\\n    for o in Loptimizer:\\n      optimizer = Loptimizer[z]\\n      print(\\'\\n\\nModelo: \\', contar,\\' kernel: \\',kernel_size, \\' drop_out: \\',drop_out, \\' Optimizer: \\', optimizer )\\n\\n      model = build_model(optimizer, kernel_size, drop_out)\\n      callbacks = [\\n          keras.callbacks.ModelCheckpoint(\\n             filepath=\"convnet_from_scratch.keras\",\\n             save_best_only=True,\\n             monitor=\"val_loss\",\\n             verbose=1)]\\n               \\n      history = model.fit(\\n            train_images,\\n            epochs=30,\\n            batch_size=16,\\n            validation_data=test_images,\\n            callbacks=callbacks)\\n      model = keras.models.load_model(\"convnet_from_scratch.keras\")\\n      test_loss, test_acc = model.evaluate(Pred_images)\\n      print(f\"Test accuracy: {test_acc:.3f}\")\\n      contar+=1\\n      z+=1\\n    d+=1\\n  k+=1\\n\\n'"
            ],
            "application/vnd.google.colaboratory.intrinsic+json": {
              "type": "string"
            }
          },
          "metadata": {},
          "execution_count": 21
        }
      ],
      "source": [
        "'''\n",
        "from numpy.random.mtrand import seed\n",
        "resulta = []\n",
        "contar = 1\n",
        "kernel = [2,3]\n",
        "dropout = [0.1,0.15,0.2,0.25]\n",
        "Loptimizer = ['rmsprop','adam']\n",
        "\n",
        "k=0\n",
        "for i in kernel:\n",
        "  kernel_size = kernel[k]\n",
        "  d=0\n",
        "  for j in dropout:\n",
        "    drop_out= dropout[d]\n",
        "    z = 0\n",
        "    for o in Loptimizer:\n",
        "      optimizer = Loptimizer[z]\n",
        "      print('\\n\\nModelo: ', contar,' kernel: ',kernel_size, ' drop_out: ',drop_out, ' Optimizer: ', optimizer )\n",
        "\n",
        "      model = build_model(optimizer, kernel_size, drop_out)\n",
        "      callbacks = [\n",
        "          keras.callbacks.ModelCheckpoint(\n",
        "             filepath=\"convnet_from_scratch.keras\",\n",
        "             save_best_only=True,\n",
        "             monitor=\"val_loss\",\n",
        "             verbose=1)]\n",
        "\n",
        "      history = model.fit(\n",
        "            train_images,\n",
        "            epochs=30,\n",
        "            batch_size=16,\n",
        "            validation_data=test_images,\n",
        "            callbacks=callbacks)\n",
        "      model = keras.models.load_model(\"convnet_from_scratch.keras\")\n",
        "      test_loss, test_acc = model.evaluate(Pred_images)\n",
        "      print(f\"Test accuracy: {test_acc:.3f}\")\n",
        "      contar+=1\n",
        "      z+=1\n",
        "    d+=1\n",
        "  k+=1\n",
        "\n",
        "'''"
      ]
    },
    {
      "cell_type": "code",
      "source": [
        "from sklearn.model_selection import KFold\n",
        "'''\n",
        "data_entrenamiento = '/content/drive/MyDrive/Img_redCovNet/TRAIN'\n",
        "\n",
        "# Define el tamaño de lote\n",
        "batch_size = 12\n",
        "\n",
        "# Prepara las imágenes de entrenamiento\n",
        "entrenamiento_datagen = ImageDataGenerator(rescale=1./255)\n",
        "'''\n",
        "# Define las clases\n",
        "classes = ['clase1', 'clase2', 'clase3', 'clase4']\n",
        "'''\n",
        "train_images = entrenamiento_datagen.flow_from_directory(\n",
        "    data_entrenamiento,\n",
        "    target_size=(20, 20),\n",
        "    color_mode='rgb',\n",
        "    batch_size=batch_size,\n",
        "    class_mode='categorical',\n",
        "    shuffle=False,\n",
        "    seed=1,\n",
        "    classes=classes)\n",
        "'''\n",
        "# Muestra cuantas imagenes hay por clase\n",
        "print('\\nNumero de clases:', len(os.listdir(data_entrenamiento)))\n",
        "\n",
        "# Define el número de pliegues para la validación cruzada\n",
        "kfold = KFold(n_splits=5, shuffle=True, random_state=1)\n",
        "\n",
        "# Entrena el modelo para cada pliegue\n",
        "for i, (train_idx, test_idx) in enumerate(kfold.split(train_images)):\n",
        "    # Crea los generadores de imágenes para el pliegue actual\n",
        "    train_images_fold = train_images.__class__(\n",
        "        train_images.directory,\n",
        "        train_images.image_data_generator,\n",
        "        target_size=train_images.target_size,\n",
        "        color_mode=train_images.color_mode,\n",
        "        classes=train_images.classes,\n",
        "        class_mode=train_images.class_mode,\n",
        "        data_format=train_images.data_format,\n",
        "        shuffle=False,\n",
        "        subset=train_images.subset,\n",
        "        interpolation=train_images.interpolation,\n",
        "        dtype=train_images.dtype\n",
        "    )\n",
        "    train_images_fold.index_array = train_idx\n",
        "\n",
        "    val_images_fold = train_images.__class__(\n",
        "        train_images.directory,\n",
        "        train_images.image_data_generator,\n",
        "        target_size=train_images.target_size,\n",
        "        color_mode=train_images.color_mode,\n",
        "        classes=train_images.classes,\n",
        "        class_mode=train_images.class_mode,\n",
        "        data_format=train_images.data_format,\n",
        "        shuffle=False,\n",
        "        subset=train_images.subset,\n",
        "        interpolation=train_images.interpolation,\n",
        "        dtype=train_images.dtype\n",
        "    )\n",
        "    val_images_fold.index_array = test_idx\n",
        "\n",
        "    # Crea un nuevo modelo para el pliegue actual\n",
        "    model = model = keras.Sequential([\n",
        "        keras.Input(shape=(20, 20, 3)),\n",
        "        layers.Conv2D(filters=32, kernel_size=3, activation=\"relu\"),\n",
        "        layers.MaxPooling2D(pool_size=2),\n",
        "        layers.Conv2D(filters=64, kernel_size=3, activation=\"relu\"),\n",
        "        layers.MaxPooling2D(pool_size=2),\n",
        "        layers.Conv2D(filters=128, kernel_size=3, activation=\"relu\"),\n",
        "        layers.Flatten(),\n",
        "        layers.Dropout(0.2),\n",
        "        layers.Dense(4, activation=\"softmax\")\n",
        "        ])\n",
        "    model.compile(optimizer=optimizer,\n",
        "                  loss=\"categorical_crossentropy\",\n",
        "                  metrics=[\"accuracy\"])\n",
        "\n",
        "    # Entrena el modelo para el pliegue actual\n",
        "    history = model.fit(\n",
        "        train_images_fold,\n",
        "        epochs=30,\n",
        "        batch_size=batch_size,\n",
        "        validation_data=val_images_fold,\n",
        "        callbacks=callbacks\n",
        "    )\n",
        "\n",
        "    # Evalúa el modelo en el conjunto de prueba\n",
        "    test_loss, test_acc = model.evaluate(test_images)\n",
        "    print(f\"Accuracy en pliegue {i}: {test_acc}\")\n"
      ],
      "metadata": {
        "colab": {
          "base_uri": "https://localhost:8080/",
          "height": 409
        },
        "id": "_Abz1OCKD0eW",
        "outputId": "cc820782-c2c6-422b-fd92-3f3a9fce2305"
      },
      "execution_count": null,
      "outputs": [
        {
          "output_type": "stream",
          "name": "stdout",
          "text": [
            "Found 0 images belonging to 4 classes.\n",
            "\n",
            "Numero de clases: 4\n"
          ]
        },
        {
          "output_type": "error",
          "ename": "ValueError",
          "evalue": "ignored",
          "traceback": [
            "\u001b[0;31m---------------------------------------------------------------------------\u001b[0m",
            "\u001b[0;31mValueError\u001b[0m                                Traceback (most recent call last)",
            "\u001b[0;32m<ipython-input-23-5b7140522830>\u001b[0m in \u001b[0;36m<module>\u001b[0;34m\u001b[0m\n\u001b[1;32m     29\u001b[0m \u001b[0;34m\u001b[0m\u001b[0m\n\u001b[1;32m     30\u001b[0m \u001b[0;31m# Entrena el modelo para cada pliegue\u001b[0m\u001b[0;34m\u001b[0m\u001b[0;34m\u001b[0m\u001b[0m\n\u001b[0;32m---> 31\u001b[0;31m \u001b[0;32mfor\u001b[0m \u001b[0mi\u001b[0m\u001b[0;34m,\u001b[0m \u001b[0;34m(\u001b[0m\u001b[0mtrain_idx\u001b[0m\u001b[0;34m,\u001b[0m \u001b[0mtest_idx\u001b[0m\u001b[0;34m)\u001b[0m \u001b[0;32min\u001b[0m \u001b[0menumerate\u001b[0m\u001b[0;34m(\u001b[0m\u001b[0mkfold\u001b[0m\u001b[0;34m.\u001b[0m\u001b[0msplit\u001b[0m\u001b[0;34m(\u001b[0m\u001b[0mtrain_images\u001b[0m\u001b[0;34m)\u001b[0m\u001b[0;34m)\u001b[0m\u001b[0;34m:\u001b[0m\u001b[0;34m\u001b[0m\u001b[0;34m\u001b[0m\u001b[0m\n\u001b[0m\u001b[1;32m     32\u001b[0m     \u001b[0;31m# Crea los generadores de imágenes para el pliegue actual\u001b[0m\u001b[0;34m\u001b[0m\u001b[0;34m\u001b[0m\u001b[0m\n\u001b[1;32m     33\u001b[0m     train_images_fold = train_images.__class__(\n",
            "\u001b[0;32m/usr/local/lib/python3.9/dist-packages/sklearn/model_selection/_split.py\u001b[0m in \u001b[0;36msplit\u001b[0;34m(self, X, y, groups)\u001b[0m\n\u001b[1;32m    343\u001b[0m         \u001b[0mn_samples\u001b[0m \u001b[0;34m=\u001b[0m \u001b[0m_num_samples\u001b[0m\u001b[0;34m(\u001b[0m\u001b[0mX\u001b[0m\u001b[0;34m)\u001b[0m\u001b[0;34m\u001b[0m\u001b[0;34m\u001b[0m\u001b[0m\n\u001b[1;32m    344\u001b[0m         \u001b[0;32mif\u001b[0m \u001b[0mself\u001b[0m\u001b[0;34m.\u001b[0m\u001b[0mn_splits\u001b[0m \u001b[0;34m>\u001b[0m \u001b[0mn_samples\u001b[0m\u001b[0;34m:\u001b[0m\u001b[0;34m\u001b[0m\u001b[0;34m\u001b[0m\u001b[0m\n\u001b[0;32m--> 345\u001b[0;31m             raise ValueError(\n\u001b[0m\u001b[1;32m    346\u001b[0m                 (\n\u001b[1;32m    347\u001b[0m                     \u001b[0;34m\"Cannot have number of splits n_splits={0} greater\"\u001b[0m\u001b[0;34m\u001b[0m\u001b[0;34m\u001b[0m\u001b[0m\n",
            "\u001b[0;31mValueError\u001b[0m: Cannot have number of splits n_splits=5 greater than the number of samples: n_samples=0."
          ]
        }
      ]
    }
  ],
  "metadata": {
    "colab": {
      "provenance": [],
      "mount_file_id": "1ol1P3znOFDGkFTJy2SH7_n4uhaVY9miW",
      "authorship_tag": "ABX9TyPdU+i0a1C5XPYMMRxBCYYX",
      "include_colab_link": true
    },
    "kernelspec": {
      "display_name": "Python 3",
      "name": "python3"
    },
    "language_info": {
      "name": "python"
    },
    "accelerator": "GPU",
    "gpuClass": "standard"
  },
  "nbformat": 4,
  "nbformat_minor": 0
}