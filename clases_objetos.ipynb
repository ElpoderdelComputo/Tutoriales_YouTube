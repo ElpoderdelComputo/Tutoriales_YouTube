{
  "nbformat": 4,
  "nbformat_minor": 0,
  "metadata": {
    "colab": {
      "provenance": [],
      "authorship_tag": "ABX9TyOXTu8HJ6GQhQaklRQLtybM",
      "include_colab_link": true
    },
    "kernelspec": {
      "name": "python3",
      "display_name": "Python 3"
    },
    "language_info": {
      "name": "python"
    }
  },
  "cells": [
    {
      "cell_type": "markdown",
      "metadata": {
        "id": "view-in-github",
        "colab_type": "text"
      },
      "source": [
        "<a href=\"https://colab.research.google.com/github/ElpoderdelComputo/Tutoriales_YouTube/blob/main/clases_objetos.ipynb\" target=\"_parent\"><img src=\"https://colab.research.google.com/assets/colab-badge.svg\" alt=\"Open In Colab\"/></a>"
      ]
    },
    {
      "cell_type": "markdown",
      "source": [
        "# **# Tutorial: Cómo crear una clase en Python**"
      ],
      "metadata": {
        "id": "5ZDvE40smJF2"
      }
    },
    {
      "cell_type": "markdown",
      "source": [
        "Una clase define un conjunto de atributos y métodos que describen las características y el comportamiento de un tipo de objeto.\n",
        "\n",
        "Los atributos son como las variables que almacenan información sobre el estado de un objeto, por ejemplo, el color de un auto o la temperatura de un horno.\n",
        "\n",
        "Los métodos son como las funciones que definen las acciones que un objeto puede realizar, por ejemplo, un auto puede tener un método para encender las luces o un horno puede tener un método para ajustar la temperatura."
      ],
      "metadata": {
        "id": "IU0rvhwxpIiI"
      }
    },
    {
      "cell_type": "code",
      "execution_count": 1,
      "metadata": {
        "id": "VHNXnakCLG1o"
      },
      "outputs": [],
      "source": [
        "# En este tutorial, aprenderemos a crear una clase en Python para manejar una cuenta bancaria.\n",
        "# Veremos cómo definir la clase, inicializarla con valores, y cómo añadir métodos para depositar,\n",
        "# retirar, consultar el saldo y realizar transacciones entre cuentas.\n",
        "\n",
        "# Definición de la clase CuentaBancaria\n",
        "class CuentaBancaria:\n",
        "    def __init__(self, nombre_titular, saldo):\n",
        "        \"\"\"\n",
        "        Inicializa una nueva instancia de CuentaBancaria.\n",
        "\n",
        "        :param nombre_titular: Nombre del titular de la cuenta.\n",
        "        :param saldo: Saldo inicial de la cuenta.\n",
        "        \"\"\"\n",
        "        self.nombre_titular = nombre_titular\n",
        "        self.saldo = saldo\n",
        "\n",
        "    def depositar(self, monto):\n",
        "        \"\"\"\n",
        "        Deposita una cantidad de dinero en la cuenta.\n",
        "\n",
        "        :param monto: La cantidad de dinero a depositar.\n",
        "        \"\"\"\n",
        "        if monto > 0:\n",
        "            self.saldo += monto\n",
        "            print(f'{monto} ha sido depositado exitosamente.')\n",
        "        else:\n",
        "            print('El monto a depositar debe ser positivo.')\n",
        "\n",
        "    def retirar(self, monto):\n",
        "        \"\"\"\n",
        "        Retira una cantidad de dinero de la cuenta.\n",
        "\n",
        "        :param monto: La cantidad de dinero a retirar.\n",
        "        \"\"\"\n",
        "        if monto > self.saldo:\n",
        "            print('Saldo insuficiente')\n",
        "            print(f'Puedes retirar hasta {self.saldo}')\n",
        "        elif monto <= 0:\n",
        "            print('El monto a retirar debe ser positivo.')\n",
        "        else:\n",
        "            self.saldo -= monto\n",
        "            print(f'{monto} ha sido retirado exitosamente.')\n",
        "\n",
        "    def consultar_saldo(self):\n",
        "        \"\"\"\n",
        "        Consulta el saldo actual de la cuenta.\n",
        "        \"\"\"\n",
        "        print(f'El saldo de la cuenta de {self.nombre_titular} es de: {self.saldo}')\n",
        "\n",
        "    def transaccion(self, cliente1, cliente2, monto):\n",
        "        \"\"\"\n",
        "        Realiza una transacción entre dos cuentas bancarias.\n",
        "\n",
        "        :param cliente1: La cuenta desde la cual se retira el monto.\n",
        "        :param cliente2: La cuenta a la cual se deposita el monto.\n",
        "        :param monto: La cantidad de dinero a transferir.\n",
        "        \"\"\"\n",
        "        # Cliente 1 hace el retiro\n",
        "        cliente1.retirar(monto)\n",
        "        # Cliente 2 recibe el depósito\n",
        "        cliente2.depositar(monto)\n",
        "\n",
        "        # Consultar saldos de ambas cuentas\n",
        "        cliente1.consultar_saldo()\n",
        "        cliente2.consultar_saldo()\n",
        "\n"
      ]
    },
    {
      "cell_type": "code",
      "source": [
        "# Ejemplos de uso\n",
        "\n",
        "# Crear una instancia de CuentaBancaria\n",
        "cuenta = CuentaBancaria(\"Danna\", 1000)\n",
        "\n",
        "# Consultar saldo inicial\n",
        "cuenta.consultar_saldo()\n",
        "\n",
        "# Depositar 500\n",
        "cuenta.depositar(500)\n",
        "cuenta.consultar_saldo()\n",
        "\n",
        "# Intentar retirar 2000 (más de lo que hay en la cuenta)\n",
        "cuenta.retirar(2000)\n",
        "cuenta.consultar_saldo()\n",
        "\n",
        "# Retirar 700\n",
        "cuenta.retirar(700)\n",
        "cuenta.consultar_saldo()\n",
        "\n",
        "# Crear dos cuentas para demostrar la transacción\n",
        "cuenta1 = CuentaBancaria(\"Juan\", 500)\n",
        "cuenta2 = CuentaBancaria(\"Maria\", 300)\n",
        "\n",
        "# Realizar una transacción de 200 de cuenta1 a cuenta2\n",
        "cuenta.transaccion(cuenta1, cuenta2, 200)"
      ],
      "metadata": {
        "id": "BMEWvDGlLMe_"
      },
      "execution_count": null,
      "outputs": []
    },
    {
      "cell_type": "markdown",
      "source": [],
      "metadata": {
        "id": "lgyirPKimHSh"
      }
    }
  ]
}